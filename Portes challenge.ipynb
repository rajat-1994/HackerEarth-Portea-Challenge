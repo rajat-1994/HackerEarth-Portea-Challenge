{
 "cells": [
  {
   "cell_type": "code",
   "execution_count": 92,
   "metadata": {
    "ExecuteTime": {
     "end_time": "2018-04-09T00:33:17.684070Z",
     "start_time": "2018-04-09T00:33:17.672727Z"
    },
    "collapsed": false,
    "deletable": true,
    "editable": true
   },
   "outputs": [],
   "source": [
    "import numpy as np,pandas as pd\n",
    "from sklearn.ensemble import RandomForestClassifier\n",
    "import xgboost as xgb\n",
    "from sklearn.model_selection import train_test_split\n",
    "from sklearn.metrics import roc_auc_score,auc\n",
    "from sklearn.metrics import confusion_matrix,accuracy_score\n",
    "from xgboost import plot_importance\n",
    "import matplotlib.pyplot as plt\n",
    "%matplotlib inline \n",
    "from sklearn.preprocessing import LabelEncoder \n",
    "import datetime as dt"
   ]
  },
  {
   "cell_type": "code",
   "execution_count": 93,
   "metadata": {
    "ExecuteTime": {
     "end_time": "2018-04-09T00:33:20.161310Z",
     "start_time": "2018-04-09T00:33:18.403371Z"
    },
    "collapsed": false,
    "deletable": true,
    "editable": true
   },
   "outputs": [
    {
     "name": "stderr",
     "output_type": "stream",
     "text": [
      "/home/rajat/anaconda3/envs/py35/lib/python3.5/site-packages/IPython/core/interactiveshell.py:2717: DtypeWarning: Columns (19) have mixed types. Specify dtype option on import or set low_memory=False.\n",
      "  interactivity=interactivity, compiler=compiler, result=result)\n",
      "/home/rajat/anaconda3/envs/py35/lib/python3.5/site-packages/IPython/core/interactiveshell.py:2717: DtypeWarning: Columns (20,21) have mixed types. Specify dtype option on import or set low_memory=False.\n",
      "  interactivity=interactivity, compiler=compiler, result=result)\n"
     ]
    }
   ],
   "source": [
    "test=pd.read_csv('patient_monthwise_revenue_test.csv')\n",
    "train=pd.read_csv('patient_monthwise_revenue_train.csv')\n",
    "test_p=pd.read_csv('physio_diagnosis_test.csv')\n",
    "train_p=pd.read_csv('physio_diagnosis_train.csv')\n",
    "train_cl=pd.read_csv('patient_train_classified.csv')\n",
    "train_ph=pd.read_csv('physio_appts_train.csv')\n",
    "\n",
    "#"
   ]
  },
  {
   "cell_type": "code",
   "execution_count": 94,
   "metadata": {
    "ExecuteTime": {
     "end_time": "2018-04-09T00:33:20.177160Z",
     "start_time": "2018-04-09T00:33:20.163339Z"
    },
    "collapsed": true
   },
   "outputs": [],
   "source": [
    "sub=pd.read_csv('Submission.csv')"
   ]
  },
  {
   "cell_type": "markdown",
   "metadata": {
    "ExecuteTime": {
     "end_time": "2018-03-27T15:15:48.490099Z",
     "start_time": "2018-03-27T15:15:48.484141Z"
    },
    "deletable": true,
    "editable": true
   },
   "source": [
    "### PREPROCESSING"
   ]
  },
  {
   "cell_type": "code",
   "execution_count": 95,
   "metadata": {
    "ExecuteTime": {
     "end_time": "2018-04-09T00:33:20.680986Z",
     "start_time": "2018-04-09T00:33:20.666733Z"
    },
    "collapsed": false
   },
   "outputs": [
    {
     "data": {
      "text/html": [
       "<div>\n",
       "<table border=\"1\" class=\"dataframe\">\n",
       "  <thead>\n",
       "    <tr style=\"text-align: right;\">\n",
       "      <th></th>\n",
       "      <th>patient_id</th>\n",
       "      <th>Bucket</th>\n",
       "      <th>revenue</th>\n",
       "    </tr>\n",
       "  </thead>\n",
       "  <tbody>\n",
       "    <tr>\n",
       "      <th>0</th>\n",
       "      <td>400061</td>\n",
       "      <td>Med</td>\n",
       "      <td>1200.0</td>\n",
       "    </tr>\n",
       "    <tr>\n",
       "      <th>1</th>\n",
       "      <td>25535</td>\n",
       "      <td>High</td>\n",
       "      <td>25150.0</td>\n",
       "    </tr>\n",
       "    <tr>\n",
       "      <th>2</th>\n",
       "      <td>409013</td>\n",
       "      <td>Med</td>\n",
       "      <td>4480.0</td>\n",
       "    </tr>\n",
       "    <tr>\n",
       "      <th>3</th>\n",
       "      <td>164585</td>\n",
       "      <td>Low</td>\n",
       "      <td>500.0</td>\n",
       "    </tr>\n",
       "    <tr>\n",
       "      <th>4</th>\n",
       "      <td>56960</td>\n",
       "      <td>Low</td>\n",
       "      <td>500.0</td>\n",
       "    </tr>\n",
       "  </tbody>\n",
       "</table>\n",
       "</div>"
      ],
      "text/plain": [
       "   patient_id Bucket  revenue\n",
       "0      400061    Med   1200.0\n",
       "1       25535   High  25150.0\n",
       "2      409013    Med   4480.0\n",
       "3      164585    Low    500.0\n",
       "4       56960    Low    500.0"
      ]
     },
     "execution_count": 95,
     "metadata": {},
     "output_type": "execute_result"
    }
   ],
   "source": [
    "train_cl.columns=['patient_id','Bucket','revenue']\n",
    "train_cl.head()"
   ]
  },
  {
   "cell_type": "code",
   "execution_count": 96,
   "metadata": {
    "ExecuteTime": {
     "end_time": "2018-04-09T00:33:21.668080Z",
     "start_time": "2018-04-09T00:33:21.516339Z"
    },
    "collapsed": true
   },
   "outputs": [],
   "source": [
    "train.drop('revenue',axis=1,inplace=True)\n",
    "train=pd.merge(train,train_cl,on='patient_id').drop(['Bucket'],axis=1)"
   ]
  },
  {
   "cell_type": "code",
   "execution_count": 97,
   "metadata": {
    "ExecuteTime": {
     "end_time": "2018-04-09T00:33:22.245455Z",
     "start_time": "2018-04-09T00:33:22.192698Z"
    },
    "collapsed": false
   },
   "outputs": [],
   "source": [
    "train.drop(['Unnamed: 20','Unnamed: 21'],axis=1,inplace=True)\n",
    "test.drop(['Unnamed: 18','Unnamed: 19'],axis=1,inplace=True)\n",
    "train_p.drop(['Unnamed: 7','Unnamed: 8'],axis=1,inplace=True)\n",
    "test_p.drop(['Unnamed: 6','Unnamed: 7'],axis=1,inplace=True)"
   ]
  },
  {
   "cell_type": "code",
   "execution_count": 98,
   "metadata": {
    "ExecuteTime": {
     "end_time": "2018-04-09T00:33:22.897225Z",
     "start_time": "2018-04-09T00:33:22.851757Z"
    },
    "collapsed": false
   },
   "outputs": [],
   "source": [
    "train.service_name.fillna('None',inplace=True)\n",
    "test.service_name.fillna('None',inplace=True)\n",
    "train.gender.fillna('None',inplace=True)\n",
    "test.gender.fillna('None',inplace=True)\n",
    "train.diagnosis.fillna('None',inplace=True)\n",
    "test.diagnosis.fillna('None',inplace=True)\n"
   ]
  },
  {
   "cell_type": "code",
   "execution_count": 99,
   "metadata": {
    "ExecuteTime": {
     "end_time": "2018-04-09T00:33:23.551371Z",
     "start_time": "2018-04-09T00:33:23.542034Z"
    },
    "collapsed": false,
    "deletable": true,
    "editable": true
   },
   "outputs": [
    {
     "data": {
      "text/plain": [
       "((55329, 18), (83307, 20), (48804, 7), (32455, 6), (48804, 3), (501324, 10))"
      ]
     },
     "execution_count": 99,
     "metadata": {},
     "output_type": "execute_result"
    }
   ],
   "source": [
    "test.shape,train.shape,train_p.shape,test_p.shape,train_cl.shape,train_ph.shape"
   ]
  },
  {
   "cell_type": "code",
   "execution_count": 100,
   "metadata": {
    "ExecuteTime": {
     "end_time": "2018-04-09T00:33:24.199398Z",
     "start_time": "2018-04-09T00:33:24.174089Z"
    },
    "collapsed": false
   },
   "outputs": [
    {
     "data": {
      "text/html": [
       "<div>\n",
       "<table border=\"1\" class=\"dataframe\">\n",
       "  <thead>\n",
       "    <tr style=\"text-align: right;\">\n",
       "      <th></th>\n",
       "      <th>patient_id</th>\n",
       "      <th>visits_count</th>\n",
       "    </tr>\n",
       "  </thead>\n",
       "  <tbody>\n",
       "    <tr>\n",
       "      <th>0</th>\n",
       "      <td>10020</td>\n",
       "      <td>1</td>\n",
       "    </tr>\n",
       "    <tr>\n",
       "      <th>1</th>\n",
       "      <td>10293</td>\n",
       "      <td>7</td>\n",
       "    </tr>\n",
       "    <tr>\n",
       "      <th>2</th>\n",
       "      <td>10381</td>\n",
       "      <td>27</td>\n",
       "    </tr>\n",
       "    <tr>\n",
       "      <th>3</th>\n",
       "      <td>10388</td>\n",
       "      <td>64</td>\n",
       "    </tr>\n",
       "    <tr>\n",
       "      <th>4</th>\n",
       "      <td>10611</td>\n",
       "      <td>15</td>\n",
       "    </tr>\n",
       "  </tbody>\n",
       "</table>\n",
       "</div>"
      ],
      "text/plain": [
       "   patient_id  visits_count\n",
       "0       10020             1\n",
       "1       10293             7\n",
       "2       10381            27\n",
       "3       10388            64\n",
       "4       10611            15"
      ]
     },
     "execution_count": 100,
     "metadata": {},
     "output_type": "execute_result"
    }
   ],
   "source": [
    "temp=train.groupby(['patient_id'])[['visits_count']].sum().reset_index()\n",
    "temp.head()"
   ]
  },
  {
   "cell_type": "code",
   "execution_count": 101,
   "metadata": {
    "ExecuteTime": {
     "end_time": "2018-04-09T00:33:24.913359Z",
     "start_time": "2018-04-09T00:33:24.812666Z"
    },
    "collapsed": true
   },
   "outputs": [],
   "source": [
    "train.drop('visits_count',axis=1,inplace=True)\n",
    "train=pd.merge(train,temp,on='patient_id')"
   ]
  },
  {
   "cell_type": "code",
   "execution_count": 102,
   "metadata": {
    "ExecuteTime": {
     "end_time": "2018-04-09T00:33:25.544547Z",
     "start_time": "2018-04-09T00:33:25.480382Z"
    },
    "collapsed": false
   },
   "outputs": [
    {
     "data": {
      "text/html": [
       "<div>\n",
       "<table border=\"1\" class=\"dataframe\">\n",
       "  <thead>\n",
       "    <tr style=\"text-align: right;\">\n",
       "      <th></th>\n",
       "      <th>patient_id</th>\n",
       "      <th>visit_month_year</th>\n",
       "      <th>service_id</th>\n",
       "      <th>city</th>\n",
       "      <th>ref_type</th>\n",
       "      <th>ref_name</th>\n",
       "      <th>ref_source</th>\n",
       "      <th>service_name</th>\n",
       "      <th>FVD</th>\n",
       "      <th>FVM</th>\n",
       "      <th>FVS</th>\n",
       "      <th>approx_age</th>\n",
       "      <th>gender</th>\n",
       "      <th>LVD</th>\n",
       "      <th>brand</th>\n",
       "      <th>visits_required</th>\n",
       "      <th>diagnosis</th>\n",
       "      <th>avg_nps</th>\n",
       "      <th>revenue</th>\n",
       "      <th>visits_count</th>\n",
       "    </tr>\n",
       "  </thead>\n",
       "  <tbody>\n",
       "    <tr>\n",
       "      <th>0</th>\n",
       "      <td>10020</td>\n",
       "      <td>04/15</td>\n",
       "      <td>2</td>\n",
       "      <td>Chennai</td>\n",
       "      <td>B2C</td>\n",
       "      <td>None</td>\n",
       "      <td>Direct Organic</td>\n",
       "      <td>P</td>\n",
       "      <td>21/04/2015</td>\n",
       "      <td>04/15</td>\n",
       "      <td>P</td>\n",
       "      <td>62</td>\n",
       "      <td>male</td>\n",
       "      <td>21/04/2015</td>\n",
       "      <td>Portea</td>\n",
       "      <td>1</td>\n",
       "      <td>Post Operative condition of Cardiac Valve repl...</td>\n",
       "      <td>\\N</td>\n",
       "      <td>500.0</td>\n",
       "      <td>1</td>\n",
       "    </tr>\n",
       "    <tr>\n",
       "      <th>1</th>\n",
       "      <td>10293</td>\n",
       "      <td>04/17</td>\n",
       "      <td>2</td>\n",
       "      <td>Mumbai</td>\n",
       "      <td>B2C</td>\n",
       "      <td>Facebook</td>\n",
       "      <td>Digital + ATL</td>\n",
       "      <td>P</td>\n",
       "      <td>08/04/2017</td>\n",
       "      <td>04/17</td>\n",
       "      <td>P</td>\n",
       "      <td>42</td>\n",
       "      <td>female</td>\n",
       "      <td>25/04/2017</td>\n",
       "      <td>Portea</td>\n",
       "      <td>8</td>\n",
       "      <td>Rheumatoid arthritis</td>\n",
       "      <td>9</td>\n",
       "      <td>4900.0</td>\n",
       "      <td>7</td>\n",
       "    </tr>\n",
       "    <tr>\n",
       "      <th>2</th>\n",
       "      <td>10381</td>\n",
       "      <td>07/15</td>\n",
       "      <td>2</td>\n",
       "      <td>NCR</td>\n",
       "      <td>B2C</td>\n",
       "      <td>None</td>\n",
       "      <td>Direct Organic</td>\n",
       "      <td>P</td>\n",
       "      <td>31/07/2015</td>\n",
       "      <td>07/15</td>\n",
       "      <td>P</td>\n",
       "      <td>67</td>\n",
       "      <td>male</td>\n",
       "      <td>11/09/2015</td>\n",
       "      <td>Portea</td>\n",
       "      <td>10</td>\n",
       "      <td>frozen shoulder</td>\n",
       "      <td>8</td>\n",
       "      <td>12250.0</td>\n",
       "      <td>27</td>\n",
       "    </tr>\n",
       "    <tr>\n",
       "      <th>3</th>\n",
       "      <td>10381</td>\n",
       "      <td>08/15</td>\n",
       "      <td>2</td>\n",
       "      <td>NCR</td>\n",
       "      <td>B2C</td>\n",
       "      <td>None</td>\n",
       "      <td>Direct Organic</td>\n",
       "      <td>P</td>\n",
       "      <td>31/07/2015</td>\n",
       "      <td>07/15</td>\n",
       "      <td>P</td>\n",
       "      <td>67</td>\n",
       "      <td>male</td>\n",
       "      <td>11/09/2015</td>\n",
       "      <td>Portea</td>\n",
       "      <td>10</td>\n",
       "      <td>frozen shoulder</td>\n",
       "      <td>8</td>\n",
       "      <td>12250.0</td>\n",
       "      <td>27</td>\n",
       "    </tr>\n",
       "    <tr>\n",
       "      <th>4</th>\n",
       "      <td>10381</td>\n",
       "      <td>08/15</td>\n",
       "      <td>98</td>\n",
       "      <td>NCR</td>\n",
       "      <td>B2C</td>\n",
       "      <td>None</td>\n",
       "      <td>Direct Organic</td>\n",
       "      <td>P</td>\n",
       "      <td>31/07/2015</td>\n",
       "      <td>07/15</td>\n",
       "      <td>P</td>\n",
       "      <td>67</td>\n",
       "      <td>male</td>\n",
       "      <td>11/09/2015</td>\n",
       "      <td>Portea</td>\n",
       "      <td>10</td>\n",
       "      <td>frozen shoulder</td>\n",
       "      <td>8</td>\n",
       "      <td>12250.0</td>\n",
       "      <td>27</td>\n",
       "    </tr>\n",
       "  </tbody>\n",
       "</table>\n",
       "</div>"
      ],
      "text/plain": [
       "   patient_id visit_month_year  service_id     city ref_type  ref_name  \\\n",
       "0       10020            04/15           2  Chennai      B2C      None   \n",
       "1       10293            04/17           2   Mumbai      B2C  Facebook   \n",
       "2       10381            07/15           2      NCR      B2C      None   \n",
       "3       10381            08/15           2      NCR      B2C      None   \n",
       "4       10381            08/15          98      NCR      B2C      None   \n",
       "\n",
       "       ref_source service_name         FVD    FVM FVS approx_age  gender  \\\n",
       "0  Direct Organic            P  21/04/2015  04/15   P         62    male   \n",
       "1   Digital + ATL            P  08/04/2017  04/17   P         42  female   \n",
       "2  Direct Organic            P  31/07/2015  07/15   P         67    male   \n",
       "3  Direct Organic            P  31/07/2015  07/15   P         67    male   \n",
       "4  Direct Organic            P  31/07/2015  07/15   P         67    male   \n",
       "\n",
       "          LVD   brand  visits_required  \\\n",
       "0  21/04/2015  Portea                1   \n",
       "1  25/04/2017  Portea                8   \n",
       "2  11/09/2015  Portea               10   \n",
       "3  11/09/2015  Portea               10   \n",
       "4  11/09/2015  Portea               10   \n",
       "\n",
       "                                           diagnosis avg_nps  revenue  \\\n",
       "0  Post Operative condition of Cardiac Valve repl...      \\N    500.0   \n",
       "1                               Rheumatoid arthritis       9   4900.0   \n",
       "2                                    frozen shoulder       8  12250.0   \n",
       "3                                    frozen shoulder       8  12250.0   \n",
       "4                                    frozen shoulder       8  12250.0   \n",
       "\n",
       "   visits_count  \n",
       "0             1  \n",
       "1             7  \n",
       "2            27  \n",
       "3            27  \n",
       "4            27  "
      ]
     },
     "execution_count": 102,
     "metadata": {},
     "output_type": "execute_result"
    }
   ],
   "source": [
    "train.head()"
   ]
  },
  {
   "cell_type": "code",
   "execution_count": 103,
   "metadata": {
    "ExecuteTime": {
     "end_time": "2018-04-09T00:33:26.506176Z",
     "start_time": "2018-04-09T00:33:26.489463Z"
    },
    "collapsed": false
   },
   "outputs": [],
   "source": [
    "def date_feature(df):\n",
    "    df.FVD=df.FVD.apply(lambda x:dt.datetime.strptime(x,'%d/%m/%Y'))\n",
    "    df.LVD=df.LVD.apply(lambda x:dt.datetime.strptime(x,'%d/%m/%Y'))\n",
    "    df['date_diff']=t.LVD.sub(t.FVD).astype(dt.timedelta).map(lambda x: np.nan if pd.isnull(x) else x.days)\n",
    "    df['fvd_year']=df.FVD.dt.year\n",
    "    df['fvd_month']=df.FVD.dt.month\n",
    "    df['fvd_day']=df.FVD.dt.day\n",
    "    df['lvd_year']=df.LVD.dt.year\n",
    "    df['lvd_month']=df.LVD.dt.month\n",
    "    df['lvd_day']=df.LVD.dt.day\n",
    "    df.drop(['FVD','LVD'],axis=1,inplace=True)\n",
    "    return df\n",
    "    "
   ]
  },
  {
   "cell_type": "code",
   "execution_count": 104,
   "metadata": {
    "ExecuteTime": {
     "end_time": "2018-04-09T00:33:32.109135Z",
     "start_time": "2018-04-09T00:33:27.169328Z"
    },
    "collapsed": false
   },
   "outputs": [],
   "source": [
    "train=date_feature(train)"
   ]
  },
  {
   "cell_type": "code",
   "execution_count": 105,
   "metadata": {
    "ExecuteTime": {
     "end_time": "2018-04-09T00:33:35.729500Z",
     "start_time": "2018-04-09T00:33:32.111248Z"
    },
    "collapsed": true
   },
   "outputs": [],
   "source": [
    "test=date_feature(test)"
   ]
  },
  {
   "cell_type": "code",
   "execution_count": 106,
   "metadata": {
    "ExecuteTime": {
     "end_time": "2018-04-09T00:33:35.739318Z",
     "start_time": "2018-04-09T00:33:35.732179Z"
    },
    "collapsed": false
   },
   "outputs": [],
   "source": [
    "train['is_train']=1\n",
    "test['is_train']=0"
   ]
  },
  {
   "cell_type": "code",
   "execution_count": 107,
   "metadata": {
    "ExecuteTime": {
     "end_time": "2018-04-09T00:33:35.947928Z",
     "start_time": "2018-04-09T00:33:35.741837Z"
    },
    "collapsed": false
   },
   "outputs": [
    {
     "name": "stdout",
     "output_type": "stream",
     "text": [
      "(138636, 26)\n"
     ]
    },
    {
     "data": {
      "text/html": [
       "<div>\n",
       "<table border=\"1\" class=\"dataframe\">\n",
       "  <thead>\n",
       "    <tr style=\"text-align: right;\">\n",
       "      <th></th>\n",
       "      <th>FVM</th>\n",
       "      <th>FVS</th>\n",
       "      <th>approx_age</th>\n",
       "      <th>avg_nps</th>\n",
       "      <th>brand</th>\n",
       "      <th>city</th>\n",
       "      <th>date_diff</th>\n",
       "      <th>diagnosis</th>\n",
       "      <th>fvd_day</th>\n",
       "      <th>fvd_month</th>\n",
       "      <th>...</th>\n",
       "      <th>patient_id</th>\n",
       "      <th>ref_name</th>\n",
       "      <th>ref_source</th>\n",
       "      <th>ref_type</th>\n",
       "      <th>revenue</th>\n",
       "      <th>service_id</th>\n",
       "      <th>service_name</th>\n",
       "      <th>visit_month_year</th>\n",
       "      <th>visits_count</th>\n",
       "      <th>visits_required</th>\n",
       "    </tr>\n",
       "  </thead>\n",
       "  <tbody>\n",
       "    <tr>\n",
       "      <th>0</th>\n",
       "      <td>04/15</td>\n",
       "      <td>P</td>\n",
       "      <td>62</td>\n",
       "      <td>\\N</td>\n",
       "      <td>Portea</td>\n",
       "      <td>Chennai</td>\n",
       "      <td>0</td>\n",
       "      <td>Post Operative condition of Cardiac Valve repl...</td>\n",
       "      <td>21</td>\n",
       "      <td>4</td>\n",
       "      <td>...</td>\n",
       "      <td>10020</td>\n",
       "      <td>None</td>\n",
       "      <td>Direct Organic</td>\n",
       "      <td>B2C</td>\n",
       "      <td>500.0</td>\n",
       "      <td>2</td>\n",
       "      <td>P</td>\n",
       "      <td>04/15</td>\n",
       "      <td>1.0</td>\n",
       "      <td>1</td>\n",
       "    </tr>\n",
       "    <tr>\n",
       "      <th>1</th>\n",
       "      <td>04/17</td>\n",
       "      <td>P</td>\n",
       "      <td>42</td>\n",
       "      <td>9</td>\n",
       "      <td>Portea</td>\n",
       "      <td>Mumbai</td>\n",
       "      <td>17</td>\n",
       "      <td>Rheumatoid arthritis</td>\n",
       "      <td>8</td>\n",
       "      <td>4</td>\n",
       "      <td>...</td>\n",
       "      <td>10293</td>\n",
       "      <td>Facebook</td>\n",
       "      <td>Digital + ATL</td>\n",
       "      <td>B2C</td>\n",
       "      <td>4900.0</td>\n",
       "      <td>2</td>\n",
       "      <td>P</td>\n",
       "      <td>04/17</td>\n",
       "      <td>7.0</td>\n",
       "      <td>8</td>\n",
       "    </tr>\n",
       "    <tr>\n",
       "      <th>2</th>\n",
       "      <td>07/15</td>\n",
       "      <td>P</td>\n",
       "      <td>67</td>\n",
       "      <td>8</td>\n",
       "      <td>Portea</td>\n",
       "      <td>NCR</td>\n",
       "      <td>42</td>\n",
       "      <td>frozen shoulder</td>\n",
       "      <td>31</td>\n",
       "      <td>7</td>\n",
       "      <td>...</td>\n",
       "      <td>10381</td>\n",
       "      <td>None</td>\n",
       "      <td>Direct Organic</td>\n",
       "      <td>B2C</td>\n",
       "      <td>12250.0</td>\n",
       "      <td>2</td>\n",
       "      <td>P</td>\n",
       "      <td>07/15</td>\n",
       "      <td>27.0</td>\n",
       "      <td>10</td>\n",
       "    </tr>\n",
       "    <tr>\n",
       "      <th>3</th>\n",
       "      <td>07/15</td>\n",
       "      <td>P</td>\n",
       "      <td>67</td>\n",
       "      <td>8</td>\n",
       "      <td>Portea</td>\n",
       "      <td>NCR</td>\n",
       "      <td>42</td>\n",
       "      <td>frozen shoulder</td>\n",
       "      <td>31</td>\n",
       "      <td>7</td>\n",
       "      <td>...</td>\n",
       "      <td>10381</td>\n",
       "      <td>None</td>\n",
       "      <td>Direct Organic</td>\n",
       "      <td>B2C</td>\n",
       "      <td>12250.0</td>\n",
       "      <td>2</td>\n",
       "      <td>P</td>\n",
       "      <td>08/15</td>\n",
       "      <td>27.0</td>\n",
       "      <td>10</td>\n",
       "    </tr>\n",
       "    <tr>\n",
       "      <th>4</th>\n",
       "      <td>07/15</td>\n",
       "      <td>P</td>\n",
       "      <td>67</td>\n",
       "      <td>8</td>\n",
       "      <td>Portea</td>\n",
       "      <td>NCR</td>\n",
       "      <td>42</td>\n",
       "      <td>frozen shoulder</td>\n",
       "      <td>31</td>\n",
       "      <td>7</td>\n",
       "      <td>...</td>\n",
       "      <td>10381</td>\n",
       "      <td>None</td>\n",
       "      <td>Direct Organic</td>\n",
       "      <td>B2C</td>\n",
       "      <td>12250.0</td>\n",
       "      <td>98</td>\n",
       "      <td>P</td>\n",
       "      <td>08/15</td>\n",
       "      <td>27.0</td>\n",
       "      <td>10</td>\n",
       "    </tr>\n",
       "  </tbody>\n",
       "</table>\n",
       "<p>5 rows × 26 columns</p>\n",
       "</div>"
      ],
      "text/plain": [
       "     FVM FVS approx_age avg_nps   brand     city  date_diff  \\\n",
       "0  04/15   P         62      \\N  Portea  Chennai          0   \n",
       "1  04/17   P         42       9  Portea   Mumbai         17   \n",
       "2  07/15   P         67       8  Portea      NCR         42   \n",
       "3  07/15   P         67       8  Portea      NCR         42   \n",
       "4  07/15   P         67       8  Portea      NCR         42   \n",
       "\n",
       "                                           diagnosis  fvd_day  fvd_month  \\\n",
       "0  Post Operative condition of Cardiac Valve repl...       21          4   \n",
       "1                               Rheumatoid arthritis        8          4   \n",
       "2                                    frozen shoulder       31          7   \n",
       "3                                    frozen shoulder       31          7   \n",
       "4                                    frozen shoulder       31          7   \n",
       "\n",
       "        ...        patient_id  ref_name      ref_source  ref_type  revenue  \\\n",
       "0       ...             10020      None  Direct Organic       B2C    500.0   \n",
       "1       ...             10293  Facebook   Digital + ATL       B2C   4900.0   \n",
       "2       ...             10381      None  Direct Organic       B2C  12250.0   \n",
       "3       ...             10381      None  Direct Organic       B2C  12250.0   \n",
       "4       ...             10381      None  Direct Organic       B2C  12250.0   \n",
       "\n",
       "   service_id  service_name visit_month_year visits_count visits_required  \n",
       "0           2             P            04/15          1.0               1  \n",
       "1           2             P            04/17          7.0               8  \n",
       "2           2             P            07/15         27.0              10  \n",
       "3           2             P            08/15         27.0              10  \n",
       "4          98             P            08/15         27.0              10  \n",
       "\n",
       "[5 rows x 26 columns]"
      ]
     },
     "execution_count": 107,
     "metadata": {},
     "output_type": "execute_result"
    }
   ],
   "source": [
    "tt=pd.concat([train,test],ignore_index=True)\n",
    "print(tt.shape)\n",
    "tt.head()"
   ]
  },
  {
   "cell_type": "code",
   "execution_count": null,
   "metadata": {
    "ExecuteTime": {
     "end_time": "2018-04-09T00:17:48.415782Z",
     "start_time": "2018-04-09T00:17:48.411970Z"
    },
    "collapsed": false
   },
   "outputs": [],
   "source": [
    "#tt['vmy_month']=tt.visit_month_year.apply(lambda x: x[0:2])\n",
    "#tt['vmy_year']=tt.visit_month_year.apply(lambda x: x[3:5])"
   ]
  },
  {
   "cell_type": "code",
   "execution_count": 108,
   "metadata": {
    "ExecuteTime": {
     "end_time": "2018-04-09T00:33:36.028931Z",
     "start_time": "2018-04-09T00:33:35.950321Z"
    },
    "collapsed": false
   },
   "outputs": [],
   "source": [
    "tt.drop(['FVM','service_id','service_name','visit_month_year'],axis=1,inplace=True)\n"
   ]
  },
  {
   "cell_type": "code",
   "execution_count": 109,
   "metadata": {
    "ExecuteTime": {
     "end_time": "2018-04-09T00:33:41.747566Z",
     "start_time": "2018-04-09T00:33:41.737406Z"
    },
    "collapsed": true
   },
   "outputs": [],
   "source": [
    "tt['visit_diff']=tt.visits_required-tt.visits_count"
   ]
  },
  {
   "cell_type": "code",
   "execution_count": 110,
   "metadata": {
    "ExecuteTime": {
     "end_time": "2018-04-09T00:33:42.828941Z",
     "start_time": "2018-04-09T00:33:42.650085Z"
    },
    "collapsed": false
   },
   "outputs": [],
   "source": [
    "tt.replace(to_replace=\"\\\\N\",value='-1',inplace=True)"
   ]
  },
  {
   "cell_type": "code",
   "execution_count": 111,
   "metadata": {
    "ExecuteTime": {
     "end_time": "2018-04-09T00:33:43.561342Z",
     "start_time": "2018-04-09T00:33:43.510292Z"
    },
    "collapsed": false
   },
   "outputs": [],
   "source": [
    "tt.approx_age=tt.approx_age.astype('int64')\n",
    "#tt.vmy_year=tt.vmy_year.astype('int64')\n"
   ]
  },
  {
   "cell_type": "code",
   "execution_count": 112,
   "metadata": {
    "ExecuteTime": {
     "end_time": "2018-04-09T00:33:46.498404Z",
     "start_time": "2018-04-09T00:33:44.371806Z"
    },
    "collapsed": false,
    "deletable": true,
    "editable": true
   },
   "outputs": [
    {
     "name": "stdout",
     "output_type": "stream",
     "text": [
      "FVS\n",
      "avg_nps\n",
      "brand\n",
      "city\n",
      "diagnosis\n",
      "gender\n",
      "ref_name\n",
      "ref_source\n",
      "ref_type\n"
     ]
    }
   ],
   "source": [
    "for i in tt.columns :\n",
    "    if tt[i].dtypes=='object':\n",
    "        print(i)\n",
    "        le=LabelEncoder()\n",
    "        tt[i]=le.fit_transform(tt[i])\n",
    "        #est[i]=le.transform(test[i])"
   ]
  },
  {
   "cell_type": "code",
   "execution_count": 113,
   "metadata": {
    "ExecuteTime": {
     "end_time": "2018-04-09T00:33:46.545221Z",
     "start_time": "2018-04-09T00:33:46.500719Z"
    },
    "collapsed": false
   },
   "outputs": [],
   "source": [
    "train=tt[tt.is_train==1]\n",
    "test=tt[tt.is_train==0].drop(['revenue','visits_count'],axis=1)\n",
    "del tt"
   ]
  },
  {
   "cell_type": "markdown",
   "metadata": {
    "ExecuteTime": {
     "end_time": "2018-03-27T15:15:29.026330Z",
     "start_time": "2018-03-27T15:15:29.021176Z"
    },
    "deletable": true,
    "editable": true
   },
   "source": [
    "### MODELS"
   ]
  },
  {
   "cell_type": "code",
   "execution_count": null,
   "metadata": {
    "ExecuteTime": {
     "end_time": "2018-04-08T22:48:17.248097Z",
     "start_time": "2018-04-08T22:48:17.242190Z"
    },
    "collapsed": false,
    "deletable": true,
    "editable": true
   },
   "outputs": [],
   "source": [
    "test.columns"
   ]
  },
  {
   "cell_type": "code",
   "execution_count": null,
   "metadata": {
    "ExecuteTime": {
     "end_time": "2018-03-30T23:10:28.788810Z",
     "start_time": "2018-03-30T23:10:28.785301Z"
    },
    "collapsed": false,
    "deletable": true,
    "editable": true
   },
   "outputs": [],
   "source": [
    "#train.drop_duplicates(keep='first',inplace=True)\n",
    "#train.is_click.value_counts()"
   ]
  },
  {
   "cell_type": "code",
   "execution_count": 115,
   "metadata": {
    "ExecuteTime": {
     "end_time": "2018-04-09T00:33:56.510420Z",
     "start_time": "2018-04-09T00:33:56.497086Z"
    },
    "collapsed": true,
    "deletable": true,
    "editable": true
   },
   "outputs": [],
   "source": [
    "X=train.drop(['revenue','patient_id'],axis=1)\n",
    "Y=train.revenue"
   ]
  },
  {
   "cell_type": "code",
   "execution_count": null,
   "metadata": {
    "ExecuteTime": {
     "end_time": "2018-04-09T00:18:10.360083Z",
     "start_time": "2018-04-09T00:18:10.351636Z"
    },
    "collapsed": false,
    "deletable": true,
    "editable": true
   },
   "outputs": [],
   "source": [
    "X.shape,Y.shape"
   ]
  },
  {
   "cell_type": "code",
   "execution_count": 116,
   "metadata": {
    "ExecuteTime": {
     "end_time": "2018-04-09T00:33:58.054534Z",
     "start_time": "2018-04-09T00:33:57.950044Z"
    },
    "collapsed": false,
    "deletable": true,
    "editable": true
   },
   "outputs": [],
   "source": [
    "x_train,x_test,y_train,y_test= train_test_split(X,Y,test_size=0.10,random_state=4)"
   ]
  },
  {
   "cell_type": "code",
   "execution_count": 117,
   "metadata": {
    "ExecuteTime": {
     "end_time": "2018-04-09T00:33:58.747685Z",
     "start_time": "2018-04-09T00:33:58.741343Z"
    },
    "collapsed": true
   },
   "outputs": [],
   "source": [
    "from sklearn.ensemble import RandomForestRegressor\n",
    "import xgboost as xgb\n",
    "from sklearn.model_selection import train_test_split\n",
    "from sklearn.metrics import confusion_matrix,accuracy_score,r2_score,mean_squared_error"
   ]
  },
  {
   "cell_type": "code",
   "execution_count": 118,
   "metadata": {
    "ExecuteTime": {
     "end_time": "2018-04-09T00:33:59.804900Z",
     "start_time": "2018-04-09T00:33:59.800145Z"
    },
    "collapsed": true
   },
   "outputs": [],
   "source": [
    "def rmse(yt,yp):\n",
    "    return mean_squared_error(yt,yp)**0.5"
   ]
  },
  {
   "cell_type": "code",
   "execution_count": 119,
   "metadata": {
    "ExecuteTime": {
     "end_time": "2018-04-09T00:34:49.491755Z",
     "start_time": "2018-04-09T00:34:00.791185Z"
    },
    "collapsed": false,
    "deletable": true,
    "editable": true,
    "scrolled": true
   },
   "outputs": [
    {
     "name": "stdout",
     "output_type": "stream",
     "text": [
      "2760.99843462\n"
     ]
    }
   ],
   "source": [
    "rf=RandomForestRegressor(n_estimators=1000, criterion='mse', max_depth=10, max_features='sqrt',\n",
    "                            n_jobs=-1, random_state=0)\n",
    "rf.fit(x_train,y_train)\n",
    "pred_rf=rf.predict(x_test)\n",
    "print(rmse(y_test,pred_rf))#,accuracy_score(y_test,pred_rf)\n",
    "#confusion_matrix(y_test,pred_rf)"
   ]
  },
  {
   "cell_type": "code",
   "execution_count": 120,
   "metadata": {
    "ExecuteTime": {
     "end_time": "2018-04-09T00:34:49.806416Z",
     "start_time": "2018-04-09T00:34:49.494260Z"
    },
    "collapsed": false,
    "deletable": true,
    "editable": true,
    "scrolled": true
   },
   "outputs": [
    {
     "name": "stdout",
     "output_type": "stream",
     "text": [
      "visits_count       0.336737\n",
      "visit_diff         0.281056\n",
      "date_diff          0.132272\n",
      "visits_required    0.047296\n",
      "lvd_month          0.027077\n",
      "ref_name           0.024341\n",
      "approx_age         0.019501\n",
      "diagnosis          0.017792\n",
      "lvd_year           0.016337\n",
      "ref_type           0.016089\n",
      "ref_source         0.015497\n",
      "lvd_day            0.013061\n",
      "fvd_day            0.011556\n",
      "fvd_month          0.009847\n",
      "fvd_year           0.009789\n",
      "avg_nps            0.009537\n",
      "city               0.008283\n",
      "gender             0.002148\n",
      "brand              0.001785\n",
      "is_train           0.000000\n",
      "FVS                0.000000\n",
      "dtype: float64\n"
     ]
    }
   ],
   "source": [
    "featimp = pd.Series(rf.feature_importances_,index=x_train\n",
    "                    .columns).sort_values(ascending=False)\n",
    "print(featimp) # this is the property of Random Forest classifier that it provide us the importance "
   ]
  },
  {
   "cell_type": "code",
   "execution_count": 121,
   "metadata": {
    "ExecuteTime": {
     "end_time": "2018-04-09T00:35:43.375548Z",
     "start_time": "2018-04-09T00:35:43.281048Z"
    },
    "collapsed": true,
    "deletable": true,
    "editable": true
   },
   "outputs": [],
   "source": [
    "dtrain = xgb.DMatrix(x_train, label=y_train)\n",
    "dtest = xgb.DMatrix(x_test)"
   ]
  },
  {
   "cell_type": "code",
   "execution_count": 122,
   "metadata": {
    "ExecuteTime": {
     "end_time": "2018-04-09T00:36:44.272126Z",
     "start_time": "2018-04-09T00:35:44.340460Z"
    },
    "collapsed": false,
    "deletable": true,
    "editable": true
   },
   "outputs": [
    {
     "name": "stdout",
     "output_type": "stream",
     "text": [
      "291.046422218\n"
     ]
    }
   ],
   "source": [
    "param = {\n",
    "    'max_depth':10,# the maximum depth of each tree\n",
    "    'eta': 0.1,# the training step for each iteration\n",
    "    'silent': 1,  # logging mode - quiet\n",
    "    'objective': 'reg:linear',  # error evaluation for multiclass training\n",
    "    'eval_metric':'error',\n",
    "    \n",
    "}  # the number of classes that exist in this datset\n",
    "num_round = 500\n",
    "bst1 = xgb.train(param, dtrain, num_round)\n",
    "pred_xg = bst1.predict(dtest)\n",
    "#pred_xg = np.where(pred>=0.5,1,0)\n",
    "print(rmse(y_test,pred_xg))\n",
    "#confusion_matrix(y_test,pred_xg)"
   ]
  },
  {
   "cell_type": "code",
   "execution_count": 123,
   "metadata": {
    "ExecuteTime": {
     "end_time": "2018-04-09T00:36:45.897500Z",
     "start_time": "2018-04-09T00:36:44.275455Z"
    },
    "collapsed": false,
    "deletable": true,
    "editable": true
   },
   "outputs": [
    {
     "data": {
      "text/plain": [
       "<matplotlib.axes._subplots.AxesSubplot at 0x7f4711e80f28>"
      ]
     },
     "execution_count": 123,
     "metadata": {},
     "output_type": "execute_result"
    },
    {
     "data": {
      "image/png": "[encoded data removed]",
      "text/plain": [
       "<matplotlib.figure.Figure at 0x7f4715dec828>"
      ]
     },
     "metadata": {},
     "output_type": "display_data"
    }
   ],
   "source": [
    "plot_importance(bst1)"
   ]
  },
  {
   "cell_type": "code",
   "execution_count": null,
   "metadata": {
    "ExecuteTime": {
     "end_time": "2018-04-08T22:09:54.365872Z",
     "start_time": "2018-04-08T22:09:54.254206Z"
    },
    "collapsed": false
   },
   "outputs": [],
   "source": [
    "test"
   ]
  },
  {
   "cell_type": "code",
   "execution_count": 124,
   "metadata": {
    "ExecuteTime": {
     "end_time": "2018-04-09T00:37:06.358789Z",
     "start_time": "2018-04-09T00:37:06.278615Z"
    },
    "collapsed": false
   },
   "outputs": [
    {
     "data": {
      "text/html": [
       "<div>\n",
       "<table border=\"1\" class=\"dataframe\">\n",
       "  <thead>\n",
       "    <tr style=\"text-align: right;\">\n",
       "      <th></th>\n",
       "      <th>patient_id</th>\n",
       "      <th>visits_count</th>\n",
       "    </tr>\n",
       "  </thead>\n",
       "  <tbody>\n",
       "    <tr>\n",
       "      <th>0</th>\n",
       "      <td>122</td>\n",
       "      <td>12</td>\n",
       "    </tr>\n",
       "    <tr>\n",
       "      <th>1</th>\n",
       "      <td>129</td>\n",
       "      <td>2</td>\n",
       "    </tr>\n",
       "    <tr>\n",
       "      <th>2</th>\n",
       "      <td>10251</td>\n",
       "      <td>2</td>\n",
       "    </tr>\n",
       "    <tr>\n",
       "      <th>3</th>\n",
       "      <td>10496</td>\n",
       "      <td>14</td>\n",
       "    </tr>\n",
       "    <tr>\n",
       "      <th>4</th>\n",
       "      <td>10701</td>\n",
       "      <td>5</td>\n",
       "    </tr>\n",
       "  </tbody>\n",
       "</table>\n",
       "</div>"
      ],
      "text/plain": [
       "   patient_id  visits_count\n",
       "0         122            12\n",
       "1         129             2\n",
       "2       10251             2\n",
       "3       10496            14\n",
       "4       10701             5"
      ]
     },
     "execution_count": 124,
     "metadata": {},
     "output_type": "execute_result"
    }
   ],
   "source": [
    "temp=pd.DataFrame()\n",
    "temp['patient_id']=test.groupby(['patient_id']).count().reset_index()['patient_id']\n",
    "temp['visits_count']=test.groupby(['patient_id']).count().reset_index()['FVS']\n",
    "temp.head()"
   ]
  },
  {
   "cell_type": "code",
   "execution_count": 125,
   "metadata": {
    "ExecuteTime": {
     "end_time": "2018-04-09T00:37:08.047876Z",
     "start_time": "2018-04-09T00:37:07.976495Z"
    },
    "collapsed": false
   },
   "outputs": [
    {
     "data": {
      "text/html": [
       "<div>\n",
       "<table border=\"1\" class=\"dataframe\">\n",
       "  <thead>\n",
       "    <tr style=\"text-align: right;\">\n",
       "      <th></th>\n",
       "      <th>FVS</th>\n",
       "      <th>approx_age</th>\n",
       "      <th>avg_nps</th>\n",
       "      <th>brand</th>\n",
       "      <th>city</th>\n",
       "      <th>date_diff</th>\n",
       "      <th>diagnosis</th>\n",
       "      <th>fvd_day</th>\n",
       "      <th>fvd_month</th>\n",
       "      <th>fvd_year</th>\n",
       "      <th>...</th>\n",
       "      <th>lvd_day</th>\n",
       "      <th>lvd_month</th>\n",
       "      <th>lvd_year</th>\n",
       "      <th>patient_id</th>\n",
       "      <th>ref_name</th>\n",
       "      <th>ref_source</th>\n",
       "      <th>ref_type</th>\n",
       "      <th>visits_required</th>\n",
       "      <th>visit_diff</th>\n",
       "      <th>visits_count</th>\n",
       "    </tr>\n",
       "  </thead>\n",
       "  <tbody>\n",
       "    <tr>\n",
       "      <th>0</th>\n",
       "      <td>0</td>\n",
       "      <td>3</td>\n",
       "      <td>25</td>\n",
       "      <td>11</td>\n",
       "      <td>20</td>\n",
       "      <td>0</td>\n",
       "      <td>22134</td>\n",
       "      <td>14</td>\n",
       "      <td>11</td>\n",
       "      <td>2013</td>\n",
       "      <td>...</td>\n",
       "      <td>11</td>\n",
       "      <td>3</td>\n",
       "      <td>2015</td>\n",
       "      <td>122</td>\n",
       "      <td>251</td>\n",
       "      <td>6</td>\n",
       "      <td>1</td>\n",
       "      <td>2</td>\n",
       "      <td>NaN</td>\n",
       "      <td>12</td>\n",
       "    </tr>\n",
       "    <tr>\n",
       "      <th>1</th>\n",
       "      <td>0</td>\n",
       "      <td>3</td>\n",
       "      <td>25</td>\n",
       "      <td>11</td>\n",
       "      <td>20</td>\n",
       "      <td>17</td>\n",
       "      <td>22134</td>\n",
       "      <td>14</td>\n",
       "      <td>11</td>\n",
       "      <td>2013</td>\n",
       "      <td>...</td>\n",
       "      <td>11</td>\n",
       "      <td>3</td>\n",
       "      <td>2015</td>\n",
       "      <td>122</td>\n",
       "      <td>251</td>\n",
       "      <td>6</td>\n",
       "      <td>1</td>\n",
       "      <td>2</td>\n",
       "      <td>NaN</td>\n",
       "      <td>12</td>\n",
       "    </tr>\n",
       "    <tr>\n",
       "      <th>2</th>\n",
       "      <td>0</td>\n",
       "      <td>3</td>\n",
       "      <td>25</td>\n",
       "      <td>11</td>\n",
       "      <td>20</td>\n",
       "      <td>42</td>\n",
       "      <td>22134</td>\n",
       "      <td>14</td>\n",
       "      <td>11</td>\n",
       "      <td>2013</td>\n",
       "      <td>...</td>\n",
       "      <td>11</td>\n",
       "      <td>3</td>\n",
       "      <td>2015</td>\n",
       "      <td>122</td>\n",
       "      <td>251</td>\n",
       "      <td>6</td>\n",
       "      <td>1</td>\n",
       "      <td>2</td>\n",
       "      <td>NaN</td>\n",
       "      <td>12</td>\n",
       "    </tr>\n",
       "    <tr>\n",
       "      <th>3</th>\n",
       "      <td>0</td>\n",
       "      <td>3</td>\n",
       "      <td>25</td>\n",
       "      <td>11</td>\n",
       "      <td>20</td>\n",
       "      <td>42</td>\n",
       "      <td>22134</td>\n",
       "      <td>14</td>\n",
       "      <td>11</td>\n",
       "      <td>2013</td>\n",
       "      <td>...</td>\n",
       "      <td>11</td>\n",
       "      <td>3</td>\n",
       "      <td>2015</td>\n",
       "      <td>122</td>\n",
       "      <td>251</td>\n",
       "      <td>6</td>\n",
       "      <td>1</td>\n",
       "      <td>2</td>\n",
       "      <td>NaN</td>\n",
       "      <td>12</td>\n",
       "    </tr>\n",
       "    <tr>\n",
       "      <th>4</th>\n",
       "      <td>0</td>\n",
       "      <td>3</td>\n",
       "      <td>25</td>\n",
       "      <td>11</td>\n",
       "      <td>20</td>\n",
       "      <td>42</td>\n",
       "      <td>22134</td>\n",
       "      <td>14</td>\n",
       "      <td>11</td>\n",
       "      <td>2013</td>\n",
       "      <td>...</td>\n",
       "      <td>11</td>\n",
       "      <td>3</td>\n",
       "      <td>2015</td>\n",
       "      <td>122</td>\n",
       "      <td>251</td>\n",
       "      <td>6</td>\n",
       "      <td>1</td>\n",
       "      <td>2</td>\n",
       "      <td>NaN</td>\n",
       "      <td>12</td>\n",
       "    </tr>\n",
       "  </tbody>\n",
       "</table>\n",
       "<p>5 rows × 22 columns</p>\n",
       "</div>"
      ],
      "text/plain": [
       "   FVS  approx_age  avg_nps  brand  city  date_diff  diagnosis  fvd_day  \\\n",
       "0    0           3       25     11    20          0      22134       14   \n",
       "1    0           3       25     11    20         17      22134       14   \n",
       "2    0           3       25     11    20         42      22134       14   \n",
       "3    0           3       25     11    20         42      22134       14   \n",
       "4    0           3       25     11    20         42      22134       14   \n",
       "\n",
       "   fvd_month  fvd_year      ...       lvd_day  lvd_month  lvd_year  \\\n",
       "0         11      2013      ...            11          3      2015   \n",
       "1         11      2013      ...            11          3      2015   \n",
       "2         11      2013      ...            11          3      2015   \n",
       "3         11      2013      ...            11          3      2015   \n",
       "4         11      2013      ...            11          3      2015   \n",
       "\n",
       "   patient_id  ref_name  ref_source  ref_type  visits_required  visit_diff  \\\n",
       "0         122       251           6         1                2         NaN   \n",
       "1         122       251           6         1                2         NaN   \n",
       "2         122       251           6         1                2         NaN   \n",
       "3         122       251           6         1                2         NaN   \n",
       "4         122       251           6         1                2         NaN   \n",
       "\n",
       "   visits_count  \n",
       "0            12  \n",
       "1            12  \n",
       "2            12  \n",
       "3            12  \n",
       "4            12  \n",
       "\n",
       "[5 rows x 22 columns]"
      ]
     },
     "execution_count": 125,
     "metadata": {},
     "output_type": "execute_result"
    }
   ],
   "source": [
    "test=pd.merge(test,temp,on='patient_id')\n",
    "test.head()"
   ]
  },
  {
   "cell_type": "code",
   "execution_count": 126,
   "metadata": {
    "ExecuteTime": {
     "end_time": "2018-04-09T00:37:10.913507Z",
     "start_time": "2018-04-09T00:37:10.905021Z"
    },
    "collapsed": false
   },
   "outputs": [
    {
     "data": {
      "text/plain": [
       "Index(['FVS', 'approx_age', 'avg_nps', 'brand', 'city', 'date_diff',\n",
       "       'diagnosis', 'fvd_day', 'fvd_month', 'fvd_year', 'gender', 'is_train',\n",
       "       'lvd_day', 'lvd_month', 'lvd_year', 'patient_id', 'ref_name',\n",
       "       'ref_source', 'ref_type', 'visits_required', 'visit_diff',\n",
       "       'visits_count'],\n",
       "      dtype='object')"
      ]
     },
     "execution_count": 126,
     "metadata": {},
     "output_type": "execute_result"
    }
   ],
   "source": [
    "test.columns"
   ]
  },
  {
   "cell_type": "code",
   "execution_count": 127,
   "metadata": {
    "ExecuteTime": {
     "end_time": "2018-04-09T00:37:15.972572Z",
     "start_time": "2018-04-09T00:37:15.887274Z"
    },
    "collapsed": false
   },
   "outputs": [
    {
     "data": {
      "text/plain": [
       "(41994, 22)"
      ]
     },
     "execution_count": 127,
     "metadata": {},
     "output_type": "execute_result"
    }
   ],
   "source": [
    "test.drop_duplicates(keep='last',inplace=True)\n",
    "test.shape"
   ]
  },
  {
   "cell_type": "code",
   "execution_count": null,
   "metadata": {
    "ExecuteTime": {
     "end_time": "2018-04-09T00:02:02.612636Z",
     "start_time": "2018-04-09T00:02:02.580822Z"
    },
    "collapsed": false
   },
   "outputs": [],
   "source": [
    "sub.columns={'patient_id','Bucket'}\n",
    "sub=pd.merge(sub,test,on='patient_id')"
   ]
  },
  {
   "cell_type": "code",
   "execution_count": null,
   "metadata": {
    "ExecuteTime": {
     "end_time": "2018-04-09T00:02:03.775454Z",
     "start_time": "2018-04-09T00:02:03.744387Z"
    },
    "collapsed": false
   },
   "outputs": [],
   "source": [
    "sub.head()"
   ]
  },
  {
   "cell_type": "code",
   "execution_count": null,
   "metadata": {
    "ExecuteTime": {
     "end_time": "2018-04-09T00:02:06.036154Z",
     "start_time": "2018-04-09T00:02:05.096734Z"
    },
    "collapsed": false,
    "deletable": true,
    "editable": true
   },
   "outputs": [],
   "source": [
    "ddtest=xgb.DMatrix(sub[x_train.columns])\n",
    "#sub=pd.DataFrame()\n",
    "#sub['id']=test.id\n",
    "pred =rf.predict(sub[x_train.columns])#+bst2.predict(ddtest)+rf.predict_proba(test.drop('id',axis=1))[:,1])/3\n",
    "#sub['is_click']=np.where(pred>=0.5,1,0)\n",
    "#sub.is_click.value_counts()\n",
    "#pred"
   ]
  },
  {
   "cell_type": "code",
   "execution_count": null,
   "metadata": {
    "ExecuteTime": {
     "end_time": "2018-04-09T00:02:06.371997Z",
     "start_time": "2018-04-09T00:02:06.361570Z"
    },
    "collapsed": true
   },
   "outputs": [],
   "source": [
    "def buc(x):\n",
    "    if x<=1000:\n",
    "        return 'Low'\n",
    "    elif x>1000 and x<=5000:\n",
    "        return 'Med'\n",
    "    elif x>5000 and x<=10000:\n",
    "        return 'High-Med'\n",
    "    elif x>10000:\n",
    "        return 'High'"
   ]
  },
  {
   "cell_type": "code",
   "execution_count": null,
   "metadata": {
    "ExecuteTime": {
     "end_time": "2018-04-09T00:02:07.377901Z",
     "start_time": "2018-04-09T00:02:07.263521Z"
    },
    "collapsed": false,
    "deletable": true,
    "editable": true
   },
   "outputs": [],
   "source": [
    "sub=sub[['patient_id','Bucket']]\n",
    "#sub['id']=test.id\n",
    "sub['Bucket']=pred#lr.predict(test.drop('id',axis=1))\n",
    "sub.head()"
   ]
  },
  {
   "cell_type": "code",
   "execution_count": null,
   "metadata": {
    "ExecuteTime": {
     "end_time": "2018-04-09T00:02:12.688890Z",
     "start_time": "2018-04-09T00:02:12.652235Z"
    },
    "collapsed": false
   },
   "outputs": [],
   "source": [
    "sub.Bucket=sub.Bucket.apply(lambda x : buc(x))\n",
    "sub.head()"
   ]
  },
  {
   "cell_type": "code",
   "execution_count": null,
   "metadata": {
    "ExecuteTime": {
     "end_time": "2018-04-09T00:02:22.230339Z",
     "start_time": "2018-04-09T00:02:22.212878Z"
    },
    "collapsed": false
   },
   "outputs": [],
   "source": [
    "sub.columns={'PID','Bucket'}\n",
    "sub.head()"
   ]
  },
  {
   "cell_type": "code",
   "execution_count": null,
   "metadata": {
    "ExecuteTime": {
     "end_time": "2018-04-09T00:02:25.683031Z",
     "start_time": "2018-04-09T00:02:25.591492Z"
    },
    "collapsed": true,
    "deletable": true,
    "editable": true
   },
   "outputs": [],
   "source": [
    "sub.to_csv('sub-xgbt.csv',index=False)"
   ]
  },
  {
   "cell_type": "code",
   "execution_count": null,
   "metadata": {
    "collapsed": true,
    "deletable": true,
    "editable": true
   },
   "outputs": [],
   "source": []
  }
 ],
 "metadata": {
  "anaconda-cloud": {},
  "kernelspec": {
   "display_name": "Python [default]",
   "language": "python",
   "name": "python3"
  },
  "language_info": {
   "codemirror_mode": {
    "name": "ipython",
    "version": 3
   },
   "file_extension": ".py",
   "mimetype": "text/x-python",
   "name": "python",
   "nbconvert_exporter": "python",
   "pygments_lexer": "ipython3",
   "version": "3.5.3"
  }
 },
 "nbformat": 4,
 "nbformat_minor": 2
}
